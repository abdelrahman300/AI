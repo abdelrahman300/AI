{
 "cells": [
  {
   "attachments": {},
   "cell_type": "markdown",
   "metadata": {},
   "source": [
    "# California Housing  Regression "
   ]
  },
  {
   "cell_type": "code",
   "execution_count": 1,
   "metadata": {},
   "outputs": [],
   "source": [
    "#import important libraries for prepareing Data & building the model \n",
    "import tensorflow as tf\n",
    "from tensorflow import keras\n",
    "import matplotlib.pyplot as plt\n",
    "import pandas as np\n",
    "import numpy as np\n",
    "from sklearn.datasets import fetch_california_housing\n",
    "from sklearn.model_selection import train_test_split\n",
    "from sklearn.preprocessing import StandardScaler"
   ]
  },
  {
   "cell_type": "code",
   "execution_count": 2,
   "metadata": {},
   "outputs": [],
   "source": [
    "housing =fetch_california_housing() # load dataset\n",
    "#spilitind data to train ,dev,test\n",
    "X_train_full,X_test,y_train_full,y_test=train_test_split(housing.data,housing.target)\n",
    "X_train,X_valid,y_train,y_valid=train_test_split(X_train_full,y_train_full)"
   ]
  },
  {
   "cell_type": "code",
   "execution_count": 3,
   "metadata": {},
   "outputs": [],
   "source": [
    "# scale data for simplicity \n",
    "Scaler=StandardScaler()\n",
    "X_train=Scaler.fit_transform(X_train)\n",
    "X_valid=Scaler.fit_transform(X_valid)\n",
    "X_test=Scaler.fit_transform(X_test)"
   ]
  },
  {
   "cell_type": "code",
   "execution_count": 4,
   "metadata": {},
   "outputs": [],
   "source": [
    "# model"
   ]
  },
  {
   "cell_type": "code",
   "execution_count": 5,
   "metadata": {},
   "outputs": [],
   "source": [
    "#create simple regression\n",
    "model=keras.models.Sequential([\n",
    "   keras.layers.Dense(30,activation='relu',input_shape=X_train.shape[1:]),\n",
    "    keras.layers.Dense(1) \n",
    "])"
   ]
  },
  {
   "cell_type": "code",
   "execution_count": 6,
   "metadata": {},
   "outputs": [
    {
     "name": "stdout",
     "output_type": "stream",
     "text": [
      "Epoch 1/20\n",
      "363/363 [==============================] - 1s 1ms/step - loss: 0.8171 - val_loss: 0.7378\n",
      "Epoch 2/20\n",
      "363/363 [==============================] - 0s 988us/step - loss: 8.1978 - val_loss: 1.1643\n",
      "Epoch 3/20\n",
      "363/363 [==============================] - 0s 1ms/step - loss: 0.7525 - val_loss: 0.5051\n",
      "Epoch 4/20\n",
      "363/363 [==============================] - 1s 1ms/step - loss: 0.5166 - val_loss: 0.4413\n",
      "Epoch 5/20\n",
      "363/363 [==============================] - 0s 959us/step - loss: 0.4732 - val_loss: 0.4213\n",
      "Epoch 6/20\n",
      "363/363 [==============================] - 0s 962us/step - loss: 0.5038 - val_loss: 0.3964\n",
      "Epoch 7/20\n",
      "363/363 [==============================] - 0s 958us/step - loss: 0.4324 - val_loss: 0.3944\n",
      "Epoch 8/20\n",
      "363/363 [==============================] - 0s 926us/step - loss: 0.5420 - val_loss: 0.3933\n",
      "Epoch 9/20\n",
      "363/363 [==============================] - 0s 946us/step - loss: 0.4389 - val_loss: 0.3796\n",
      "Epoch 10/20\n",
      "363/363 [==============================] - 0s 920us/step - loss: 0.4017 - val_loss: 0.3759\n",
      "Epoch 11/20\n",
      "363/363 [==============================] - 0s 1ms/step - loss: 0.3937 - val_loss: 0.3764\n",
      "Epoch 12/20\n",
      "363/363 [==============================] - 0s 920us/step - loss: 0.3955 - val_loss: 0.3634\n",
      "Epoch 13/20\n",
      "363/363 [==============================] - 0s 940us/step - loss: 0.3833 - val_loss: 0.3707\n",
      "Epoch 14/20\n",
      "363/363 [==============================] - 0s 933us/step - loss: 0.3784 - val_loss: 0.3660\n",
      "Epoch 15/20\n",
      "363/363 [==============================] - 0s 945us/step - loss: 0.3755 - val_loss: 0.3530\n",
      "Epoch 16/20\n",
      "363/363 [==============================] - 0s 939us/step - loss: 0.3743 - val_loss: 0.3529\n",
      "Epoch 17/20\n",
      "363/363 [==============================] - 0s 926us/step - loss: 0.3699 - val_loss: 0.3517\n",
      "Epoch 18/20\n",
      "363/363 [==============================] - 0s 925us/step - loss: 0.3715 - val_loss: 0.3482\n",
      "Epoch 19/20\n",
      "363/363 [==============================] - 0s 927us/step - loss: 0.3774 - val_loss: 0.3500\n",
      "Epoch 20/20\n",
      "363/363 [==============================] - 0s 1ms/step - loss: 0.3619 - val_loss: 0.3514\n"
     ]
    }
   ],
   "source": [
    "#compile model&fit it \n",
    "model.compile(loss='mean_squared_error',optimizer='sgd')\n",
    "history=model.fit(X_train,y_train,epochs=20,validation_data=(X_valid,y_valid))"
   ]
  },
  {
   "cell_type": "code",
   "execution_count": 7,
   "metadata": {},
   "outputs": [
    {
     "name": "stdout",
     "output_type": "stream",
     "text": [
      "162/162 [==============================] - 0s 675us/step - loss: 0.8011\n"
     ]
    },
    {
     "data": {
      "text/plain": [
       "0.8010791540145874"
      ]
     },
     "execution_count": 7,
     "metadata": {},
     "output_type": "execute_result"
    }
   ],
   "source": [
    "#evaluate model on test data\n",
    "mse=model.evaluate(X_test,y_test)\n",
    "mse"
   ]
  },
  {
   "cell_type": "code",
   "execution_count": 8,
   "metadata": {},
   "outputs": [
    {
     "name": "stdout",
     "output_type": "stream",
     "text": [
      "1/1 [==============================] - 0s 61ms/step\n"
     ]
    },
    {
     "data": {
      "text/plain": [
       "array([[1.1623461],\n",
       "       [4.030553 ],\n",
       "       [0.9381119]], dtype=float32)"
      ]
     },
     "execution_count": 8,
     "metadata": {},
     "output_type": "execute_result"
    }
   ],
   "source": [
    "#predict\n",
    "X_new=X_test[:3]\n",
    "y_pred=model.predict(X_new)\n",
    "y_pred"
   ]
  }
 ],
 "metadata": {
  "kernelspec": {
   "display_name": "base",
   "language": "python",
   "name": "python3"
  },
  "language_info": {
   "codemirror_mode": {
    "name": "ipython",
    "version": 3
   },
   "file_extension": ".py",
   "mimetype": "text/x-python",
   "name": "python",
   "nbconvert_exporter": "python",
   "pygments_lexer": "ipython3",
   "version": "3.9.13"
  },
  "orig_nbformat": 4
 },
 "nbformat": 4,
 "nbformat_minor": 2
}
