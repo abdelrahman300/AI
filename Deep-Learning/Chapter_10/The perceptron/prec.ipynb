{
 "cells": [
  {
   "cell_type": "code",
   "execution_count": 1,
   "metadata": {},
   "outputs": [],
   "source": [
    "#import necessary libraries that we will use \n",
    "#numpy for mathimatics \n",
    "import numpy as np \n",
    "#dataset built in python\n",
    "from sklearn.datasets import load_iris  \n",
    "# simplest ANNs model\n",
    "from sklearn.linear_model import Perceptron  "
   ]
  },
  {
   "cell_type": "code",
   "execution_count": 5,
   "metadata": {},
   "outputs": [],
   "source": [
    "#reading data \n",
    "df=load_iris()\n",
    "#print it \n",
    "df"
   ]
  },
  {
   "cell_type": "code",
   "execution_count": 8,
   "metadata": {},
   "outputs": [
    {
     "name": "stderr",
     "output_type": "stream",
     "text": [
      "C:\\Users\\NV_User\\AppData\\Local\\Temp\\ipykernel_5284\\3012193504.py:2: DeprecationWarning: `np.int` is a deprecated alias for the builtin `int`. To silence this warning, use `int` by itself. Doing this will not modify any behavior and is safe. When replacing `np.int`, you may wish to use e.g. `np.int64` or `np.int32` to specify the precision. If you wish to review your current use, check the release note link for additional information.\n",
      "Deprecated in NumPy 1.20; for more details and guidance: https://numpy.org/devdocs/release/1.20.0-notes.html#deprecations\n",
      "  y=(df.target==0).astype(np.int)\n"
     ]
    }
   ],
   "source": [
    "#spiliting data to data & label \n",
    "x=df.data[:,(2,3)]#petallength,petal width\n",
    "y=(df.target==0).astype(np.int) #label"
   ]
  },
  {
   "cell_type": "code",
   "execution_count": 9,
   "metadata": {},
   "outputs": [
    {
     "data": {
      "text/plain": [
       "array([0])"
      ]
     },
     "execution_count": 9,
     "metadata": {},
     "output_type": "execute_result"
    }
   ],
   "source": [
    "#identity the model \n",
    "per_clf=Perceptron()\n",
    "#fit it \n",
    "per_clf.fit(x,y)\n",
    "#trying to predict \n",
    "y_pred=per_clf.predict([[2,0.5]])\n",
    "y_pred"
   ]
  },
  {
   "cell_type": "code",
   "execution_count": null,
   "metadata": {},
   "outputs": [],
   "source": []
  }
 ],
 "metadata": {
  "kernelspec": {
   "display_name": "base",
   "language": "python",
   "name": "python3"
  },
  "language_info": {
   "codemirror_mode": {
    "name": "ipython",
    "version": 3
   },
   "file_extension": ".py",
   "mimetype": "text/x-python",
   "name": "python",
   "nbconvert_exporter": "python",
   "pygments_lexer": "ipython3",
   "version": "3.9.13"
  },
  "orig_nbformat": 4
 },
 "nbformat": 4,
 "nbformat_minor": 2
}
